{
 "cells": [
  {
   "cell_type": "markdown",
   "metadata": {},
   "source": [
    "Carregando os dados necessários"
   ]
  },
  {
   "cell_type": "code",
   "execution_count": 43,
   "metadata": {},
   "outputs": [],
   "source": [
    "from pandas import DataFrame, read_csv, to_datetime\n",
    "from os import path\n",
    "\n",
    "datadir = 'C:/Users/User/Desktop/data_science/mentoria_data_mundo/projeto_ecommerce/_data/clean'\n",
    "\n",
    "df_clientes = read_csv(path.join(datadir, 'e_commerce_clientes.csv'))\n",
    "df_carrinhos = read_csv(path.join(datadir, 'e_commerce_carrinhos.csv'))\n",
    "df_pedidos = read_csv(path.join(datadir, 'e_commerce_pedidos.csv'))"
   ]
  },
  {
   "cell_type": "markdown",
   "metadata": {},
   "source": [
    "Realizando os tratamentos dos dados necessários"
   ]
  },
  {
   "cell_type": "code",
   "execution_count": 52,
   "metadata": {},
   "outputs": [
    {
     "name": "stdout",
     "output_type": "stream",
     "text": [
      "<class 'pandas.core.frame.DataFrame'>\n",
      "RangeIndex: 145 entries, 0 to 144\n",
      "Data columns (total 3 columns):\n",
      " #   Column      Non-Null Count  Dtype         \n",
      "---  ------      --------------  -----         \n",
      " 0   id_cliente  145 non-null    object        \n",
      " 1   total_pago  145 non-null    float64       \n",
      " 2   data        145 non-null    datetime64[ns]\n",
      "dtypes: datetime64[ns](1), float64(1), object(1)\n",
      "memory usage: 3.5+ KB\n"
     ]
    }
   ],
   "source": [
    "# Do dataframe 'df_pedidos' Iremos pegar a coluna 'total_pago' e a coluna 'id_cliente', assim teremos o valor total pago por cliente, além da data.\n",
    "\n",
    "# A ideia é dividir em dois grupos, o ticket médio dos clientes em datas normais, e em datas especiais.\n",
    "\n",
    "\n",
    "# Trocando as ',' por '.' para converter para float na coluna 'total_pago'\n",
    "df_pedidos['total_pago'] = df_pedidos['total_pago'].replace(',', '.', regex=True).astype({'total_pago': float})\n",
    "\n",
    "# Trocando o tipo da coluna 'data' para datetime (formato do pandas para datas)\n",
    "df_pedidos['data'] = to_datetime(df_pedidos['data'], format='%d/%m/%Y %H:%M:%S')\n",
    "\n",
    "# Filtrando apenas as colunas necessárias do dataframe 'df_pedidos'\n",
    "df_pedidos.filter(['id_cliente', 'total_pago', 'data']).info()"
   ]
  }
 ],
 "metadata": {
  "kernelspec": {
   "display_name": "Python 3",
   "language": "python",
   "name": "python3"
  },
  "language_info": {
   "codemirror_mode": {
    "name": "ipython",
    "version": 3
   },
   "file_extension": ".py",
   "mimetype": "text/x-python",
   "name": "python",
   "nbconvert_exporter": "python",
   "pygments_lexer": "ipython3",
   "version": "3.12.1"
  }
 },
 "nbformat": 4,
 "nbformat_minor": 2
}
