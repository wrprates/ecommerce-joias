{
 "cells": [
  {
   "cell_type": "markdown",
   "metadata": {},
   "source": [
    "Carregando os dados necessários"
   ]
  },
  {
   "cell_type": "code",
   "execution_count": 29,
   "metadata": {},
   "outputs": [],
   "source": [
    "from pandas import DataFrame, read_csv, to_datetime, concat\n",
    "from os import path\n",
    "\n",
    "datadir = 'C:/Users/User/Desktop/data_science/mentoria_data_mundo/projeto_ecommerce/_data/clean'\n",
    "\n",
    "df_clientes = read_csv(path.join(datadir, 'e_commerce_clientes.csv'))\n",
    "df_carrinhos = read_csv(path.join(datadir, 'e_commerce_carrinhos.csv'))\n",
    "df_pedidos = read_csv(path.join(datadir, 'e_commerce_pedidos.csv'))"
   ]
  },
  {
   "cell_type": "markdown",
   "metadata": {},
   "source": [
    "Realizando os tratamentos dos dados necessários em df_pedidos"
   ]
  },
  {
   "cell_type": "code",
   "execution_count": 30,
   "metadata": {},
   "outputs": [],
   "source": [
    "# Do dataframe 'df_pedidos' Iremos pegar a coluna 'total_pago' e a coluna 'id_cliente', assim teremos o valor total pago por cliente, além da data.\n",
    "# A ideia é dividir em dois grupos, o ticket médio dos clientes em datas normais, e em datas especiais.\n",
    "\n",
    "# Trocando as ',' por '.' para converter para float na coluna 'total_pago'\n",
    "df_pedidos['total_pago'] = (df_pedidos['total_pago']\n",
    " .replace(',', '.', regex=True)\n",
    " .astype({'total_pago': float}))\n",
    "\n",
    "# Trocando o tipo da coluna 'data' para datetime (formato do pandas para datas)\n",
    "df_pedidos['data'] = to_datetime(df_pedidos['data'], format='%d/%m/%Y %H:%M:%S')\n",
    "df_pedidos['data'] = df_pedidos['data'].apply(lambda x: x.strftime('%Y/%m/%d'))\n",
    "\n",
    "# Filtrando apenas as colunas necessárias do dataframe 'df_pedidos'\n",
    "df_pedidos = df_pedidos.filter(['id_cliente', 'total_pago', 'data'])"
   ]
  },
  {
   "cell_type": "markdown",
   "metadata": {},
   "source": [
    "Criando df_pedidos com datas especiais e não especiais"
   ]
  },
  {
   "cell_type": "code",
   "execution_count": 52,
   "metadata": {},
   "outputs": [
    {
     "data": {
      "text/html": [
       "<div>\n",
       "<style scoped>\n",
       "    .dataframe tbody tr th:only-of-type {\n",
       "        vertical-align: middle;\n",
       "    }\n",
       "\n",
       "    .dataframe tbody tr th {\n",
       "        vertical-align: top;\n",
       "    }\n",
       "\n",
       "    .dataframe thead th {\n",
       "        text-align: right;\n",
       "    }\n",
       "</style>\n",
       "<table border=\"1\" class=\"dataframe\">\n",
       "  <thead>\n",
       "    <tr style=\"text-align: right;\">\n",
       "      <th></th>\n",
       "      <th>id_cliente</th>\n",
       "      <th>total_pago</th>\n",
       "      <th>data</th>\n",
       "    </tr>\n",
       "  </thead>\n",
       "  <tbody>\n",
       "    <tr>\n",
       "      <th>0</th>\n",
       "      <td>31d69aed10</td>\n",
       "      <td>508.90</td>\n",
       "      <td>2024/08/04</td>\n",
       "    </tr>\n",
       "    <tr>\n",
       "      <th>1</th>\n",
       "      <td>3e109eedd5</td>\n",
       "      <td>518.90</td>\n",
       "      <td>2024/08/01</td>\n",
       "    </tr>\n",
       "    <tr>\n",
       "      <th>2</th>\n",
       "      <td>3e109eedd5</td>\n",
       "      <td>518.90</td>\n",
       "      <td>2024/08/01</td>\n",
       "    </tr>\n",
       "    <tr>\n",
       "      <th>3</th>\n",
       "      <td>3e109eedd5</td>\n",
       "      <td>518.90</td>\n",
       "      <td>2024/08/01</td>\n",
       "    </tr>\n",
       "    <tr>\n",
       "      <th>4</th>\n",
       "      <td>3e109eedd5</td>\n",
       "      <td>518.90</td>\n",
       "      <td>2024/08/01</td>\n",
       "    </tr>\n",
       "    <tr>\n",
       "      <th>...</th>\n",
       "      <td>...</td>\n",
       "      <td>...</td>\n",
       "      <td>...</td>\n",
       "    </tr>\n",
       "    <tr>\n",
       "      <th>124</th>\n",
       "      <td>0db3cf4f27</td>\n",
       "      <td>14.53</td>\n",
       "      <td>2024/05/22</td>\n",
       "    </tr>\n",
       "    <tr>\n",
       "      <th>125</th>\n",
       "      <td>0db3cf4f27</td>\n",
       "      <td>13.50</td>\n",
       "      <td>2024/05/22</td>\n",
       "    </tr>\n",
       "    <tr>\n",
       "      <th>126</th>\n",
       "      <td>0db3cf4f27</td>\n",
       "      <td>139.30</td>\n",
       "      <td>2024/05/22</td>\n",
       "    </tr>\n",
       "    <tr>\n",
       "      <th>127</th>\n",
       "      <td>0db3cf4f27</td>\n",
       "      <td>34.90</td>\n",
       "      <td>2024/05/22</td>\n",
       "    </tr>\n",
       "    <tr>\n",
       "      <th>128</th>\n",
       "      <td>0db3cf4f27</td>\n",
       "      <td>149.21</td>\n",
       "      <td>2024/05/22</td>\n",
       "    </tr>\n",
       "  </tbody>\n",
       "</table>\n",
       "<p>129 rows × 3 columns</p>\n",
       "</div>"
      ],
      "text/plain": [
       "     id_cliente  total_pago        data\n",
       "0    31d69aed10      508.90  2024/08/04\n",
       "1    3e109eedd5      518.90  2024/08/01\n",
       "2    3e109eedd5      518.90  2024/08/01\n",
       "3    3e109eedd5      518.90  2024/08/01\n",
       "4    3e109eedd5      518.90  2024/08/01\n",
       "..          ...         ...         ...\n",
       "124  0db3cf4f27       14.53  2024/05/22\n",
       "125  0db3cf4f27       13.50  2024/05/22\n",
       "126  0db3cf4f27      139.30  2024/05/22\n",
       "127  0db3cf4f27       34.90  2024/05/22\n",
       "128  0db3cf4f27      149.21  2024/05/22\n",
       "\n",
       "[129 rows x 3 columns]"
      ]
     },
     "execution_count": 52,
     "metadata": {},
     "output_type": "execute_result"
    }
   ],
   "source": [
    "# Vamos criar a lista com as datas especiais\n",
    "datas_especiais = ([\n",
    "    '2024/01/01', '2024/01/06', '2024/01/25', '2024/02/10', '2024/02/11', \n",
    "    '2024/02/12', '2024/02/13', '2024/02/14', '2024/02/24', '2024/03/08', \n",
    "    '2024/03/10', '2024/03/19', '2024/03/29', '2024/04/01', '2024/04/21', \n",
    "    '2024/04/22', '2024/04/25', '2024/04/30', '2024/05/01', '2024/05/13', \n",
    "    '2024/05/31', '2024/06/05', '2024/06/12', '2024/06/24', '2024/07/02', \n",
    "    '2024/07/09', '2024/07/20', '2024/08/11', '2024/08/15', '2024/08/19', \n",
    "    '2024/09/07', '2024/09/29', '2024/10/12', '2024/10/15', '2024/10/28', \n",
    "    '2024/11/02', '2024/11/15', '2024/11/20', '2024/12/24', '2024/12/25', '2024/12/31'])\n",
    "\n",
    "# Agora criaremos outro dataframe apenas com as datas_especiais e um com datas normais\n",
    "## Aqui temos uma amostra relativamente pequena, pois contém apenas 14 linhas das 145\n",
    "df_pedidos_datas_especiais = df_pedidos[df_pedidos['data'].isin(datas_especiais)].reset_index(drop=True)\n",
    "\n",
    "df_pedidos_datas_normais = df_pedidos[df_pedidos['data'].isin(datas_especiais) == False].reset_index(drop=True)\n"
   ]
  }
 ],
 "metadata": {
  "kernelspec": {
   "display_name": "Python 3",
   "language": "python",
   "name": "python3"
  },
  "language_info": {
   "codemirror_mode": {
    "name": "ipython",
    "version": 3
   },
   "file_extension": ".py",
   "mimetype": "text/x-python",
   "name": "python",
   "nbconvert_exporter": "python",
   "pygments_lexer": "ipython3",
   "version": "3.12.1"
  }
 },
 "nbformat": 4,
 "nbformat_minor": 2
}
